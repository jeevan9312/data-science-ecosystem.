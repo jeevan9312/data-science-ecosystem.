{
 "cells": [
  {
   "cell_type": "code",
   "execution_count": null,
   "id": "e2dde343-3e6e-4663-bcf0-b6516c42a496",
   "metadata": {},
   "outputs": [],
   "source": []
  },
  {
   "cell_type": "markdown",
   "id": "200b146e-ff80-469e-b567-935f3b14be64",
   "metadata": {},
   "source": [
    "# Data Science Tools and Ecosystem\n"
   ]
  },
  {
   "cell_type": "markdown",
   "id": "db2d5cc3-342d-4086-ae1e-984b5e8a9645",
   "metadata": {},
   "source": [
    "# Data Science Tools and Ecosystem\n",
    "\n",
    "In this notebook, we will explore various tools and ecosystems used in data science.\n"
   ]
  },
  {
   "cell_type": "markdown",
   "id": "032343ed-94da-4dd1-a977-af6abec577e9",
   "metadata": {},
   "source": [
    "# Data Science Tools and Ecosystem\n",
    "\n",
    "In this notebook, we will explore various tools and ecosystems used in data science.\n",
    "\n",
    "## Languages used in Data Science:\n",
    "1. Python  \n",
    "2. R  \n",
    "3. SQL  \n"
   ]
  },
  {
   "cell_type": "markdown",
   "id": "9e648cbf-ceb5-4a02-8bd4-c14d0e0a181a",
   "metadata": {},
   "source": [
    "# Data Science Tools and Ecosystem\n",
    "\n",
    "In this notebook, we will explore various tools and ecosystems used in data science.\n",
    "\n",
    "## Some of the commonly used libraries used by Data Scientists include:\n",
    "1. NumPy  \n",
    "2. Pandas  \n",
    "3. Matplotlib  \n",
    "4. Scikit-learn  \n",
    "5. TensorFlow  \n"
   ]
  },
  {
   "cell_type": "markdown",
   "id": "f23240b1-dace-46f7-8928-d10390b2ecc6",
   "metadata": {},
   "source": [
    "# Data Science Tools and Ecosystem\n",
    "\n",
    "Below is a table of some popular Data Science Tools:\n",
    "\n",
    "| Tool            | Category          |\n",
    "|-----------------|-------------------|\n",
    "| Jupyter Notebook| Notebook Interface|\n",
    "| RStudio         | IDE               |\n",
    "| Apache Spark    | Big Data Processing|\n",
    "| TensorFlow      | Machine Learning  |\n",
    "| Tableau         | Data Visualization|\n"
   ]
  },
  {
   "cell_type": "markdown",
   "id": "0a1ca33e-ad62-4b84-9c40-bc12169ac8e0",
   "metadata": {},
   "source": [
    "# Examples of Arithmetic Expressions\n",
    "\n",
    "This section includes examples of simple arithmetic expressions in Python.\n"
   ]
  },
  {
   "cell_type": "code",
   "execution_count": 1,
   "id": "916a7a7b-554c-4328-815a-3c1cbceda67d",
   "metadata": {},
   "outputs": [
    {
     "data": {
      "text/plain": [
       "17"
      ]
     },
     "execution_count": 1,
     "metadata": {},
     "output_type": "execute_result"
    }
   ],
   "source": [
    "# This code multiplies and adds two integers\n",
    "(3 * 4) + 5\n"
   ]
  },
  {
   "cell_type": "code",
   "execution_count": 2,
   "id": "96f9ada0-ea9c-4c63-9a55-29c71a66b569",
   "metadata": {},
   "outputs": [
    {
     "data": {
      "text/plain": [
       "3.3333333333333335"
      ]
     },
     "execution_count": 2,
     "metadata": {},
     "output_type": "execute_result"
    }
   ],
   "source": [
    "# This code converts minutes to hours\n",
    "minutes = 200\n",
    "hours = minutes / 60\n",
    "hours\n"
   ]
  },
  {
   "cell_type": "markdown",
   "id": "6de894ea-77a1-4db8-8aa6-ad4c06b07d37",
   "metadata": {},
   "source": [
    "### Objectives of this notebook\n",
    "\n",
    "- List popular languages for Data Science\n",
    "- Introduce commonly used libraries\n",
    "- Perform basic arithmetic operations\n",
    "- Share notebooks via various formats\n"
   ]
  },
  {
   "cell_type": "markdown",
   "id": "7061584a-293f-48a8-bda4-a7510558d0f5",
   "metadata": {},
   "source": [
    "**Author:** Jeevu Gowda\n"
   ]
  },
  {
   "cell_type": "code",
   "execution_count": null,
   "id": "6e878164-2557-49a3-b911-bc2613d32c43",
   "metadata": {},
   "outputs": [],
   "source": []
  }
 ],
 "metadata": {
  "kernelspec": {
   "display_name": "Python 3 (ipykernel)",
   "language": "python",
   "name": "python3"
  },
  "language_info": {
   "codemirror_mode": {
    "name": "ipython",
    "version": 3
   },
   "file_extension": ".py",
   "mimetype": "text/x-python",
   "name": "python",
   "nbconvert_exporter": "python",
   "pygments_lexer": "ipython3",
   "version": "3.12.8"
  }
 },
 "nbformat": 4,
 "nbformat_minor": 5
}
